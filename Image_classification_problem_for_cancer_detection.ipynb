{
  "nbformat": 4,
  "nbformat_minor": 0,
  "metadata": {
    "colab": {
      "provenance": []
    },
    "kernelspec": {
      "name": "python3",
      "display_name": "Python 3"
    },
    "language_info": {
      "name": "python"
    }
  },
  "cells": [
    {
      "cell_type": "markdown",
      "source": [
        "\n",
        "This Project is an image classification problem for cancer detection. Please read the data description and collect background info on breast cancer and the H&E staining. Please also define your models and training strategies and conduct hyperparameter tunning. Image augmentation and normalization can be key to improving performance for this project.\n",
        "data: https://www.kaggle.com/competitions/histopathologic-cancer-detection/overview\n",
        "sample code: https://www.kaggle.com/code/walia20/histopathologic-cancer-detection-using-cnns\n",
        "Requirements:\n",
        " 1. test at least two models (one of the models needs to be built by yourself)\n",
        " 2. try at least two optimizers and two learning schedulers for model training.\n",
        " 3. test at least two image augmentation methods.\n",
        " 4. generate roc curves for the models and combinations of training conditions based on validation data.\n",
        "\n",
        "Note: you do not need to use all the data from the data link above. A small subset (like 5000 images) of the data is okay for the project."
      ],
      "metadata": {
        "id": "OQcYjlKBCFDw"
      }
    },
    {
      "cell_type": "markdown",
      "source": [
        "# Importing Kaggle to colab"
      ],
      "metadata": {
        "id": "WndPIfgoCyKc"
      }
    },
    {
      "cell_type": "code",
      "source": [
        " pip install kaggle"
      ],
      "metadata": {
        "colab": {
          "base_uri": "https://localhost:8080/"
        },
        "id": "E4bUZ5QjJEwr",
        "outputId": "29be9542-5c81-4e0f-b2ca-b13657f03f0f"
      },
      "execution_count": null,
      "outputs": [
        {
          "output_type": "stream",
          "name": "stdout",
          "text": [
            "Requirement already satisfied: kaggle in /usr/local/lib/python3.10/dist-packages (1.5.16)\n",
            "Requirement already satisfied: six>=1.10 in /usr/local/lib/python3.10/dist-packages (from kaggle) (1.16.0)\n",
            "Requirement already satisfied: certifi in /usr/local/lib/python3.10/dist-packages (from kaggle) (2023.7.22)\n",
            "Requirement already satisfied: python-dateutil in /usr/local/lib/python3.10/dist-packages (from kaggle) (2.8.2)\n",
            "Requirement already satisfied: requests in /usr/local/lib/python3.10/dist-packages (from kaggle) (2.31.0)\n",
            "Requirement already satisfied: tqdm in /usr/local/lib/python3.10/dist-packages (from kaggle) (4.66.1)\n",
            "Requirement already satisfied: python-slugify in /usr/local/lib/python3.10/dist-packages (from kaggle) (8.0.1)\n",
            "Requirement already satisfied: urllib3 in /usr/local/lib/python3.10/dist-packages (from kaggle) (2.0.7)\n",
            "Requirement already satisfied: bleach in /usr/local/lib/python3.10/dist-packages (from kaggle) (6.1.0)\n",
            "Requirement already satisfied: webencodings in /usr/local/lib/python3.10/dist-packages (from bleach->kaggle) (0.5.1)\n",
            "Requirement already satisfied: text-unidecode>=1.3 in /usr/local/lib/python3.10/dist-packages (from python-slugify->kaggle) (1.3)\n",
            "Requirement already satisfied: charset-normalizer<4,>=2 in /usr/local/lib/python3.10/dist-packages (from requests->kaggle) (3.3.2)\n",
            "Requirement already satisfied: idna<4,>=2.5 in /usr/local/lib/python3.10/dist-packages (from requests->kaggle) (3.4)\n"
          ]
        }
      ]
    },
    {
      "cell_type": "code",
      "source": [
        " mkdir ~/.kaggle"
      ],
      "metadata": {
        "id": "r1Bq_M1cJFJk"
      },
      "execution_count": null,
      "outputs": []
    },
    {
      "cell_type": "code",
      "source": [
        "cp kaggle.json ~/.kaggle/"
      ],
      "metadata": {
        "id": "_r_CxBlxJG8_"
      },
      "execution_count": null,
      "outputs": []
    },
    {
      "cell_type": "code",
      "source": [
        "!chmod 600 ~/.kaggle/kaggle.json\n"
      ],
      "metadata": {
        "id": "lLoAgOp3JJOY"
      },
      "execution_count": null,
      "outputs": []
    },
    {
      "cell_type": "code",
      "source": [
        "! kaggle competitions download -c histopathologic-cancer-detection\n"
      ],
      "metadata": {
        "colab": {
          "base_uri": "https://localhost:8080/"
        },
        "id": "MX68yO8VK7g0",
        "outputId": "46e13422-33e9-48f6-f9c3-8acdf3fe8952"
      },
      "execution_count": null,
      "outputs": [
        {
          "output_type": "stream",
          "name": "stdout",
          "text": [
            "Downloading histopathologic-cancer-detection.zip to /content\n",
            "100% 6.30G/6.31G [00:57<00:00, 214MB/s]\n",
            "100% 6.31G/6.31G [00:57<00:00, 119MB/s]\n"
          ]
        }
      ]
    },
    {
      "cell_type": "code",
      "source": [
        "import zipfile\n",
        "import os\n",
        "\n",
        "# Path to the downloaded zip file\n",
        "zip_file_path = '/content/histopathologic-cancer-detection.zip'\n",
        "\n",
        "# Directory where you want to extract the files\n",
        "extracted_folder_path = '/content/histopathologic-cancer-detection'\n",
        "\n",
        "# Create the directory if it doesn't exist\n",
        "os.makedirs(extracted_folder_path, exist_ok=True)\n",
        "\n",
        "# Unzip the file directly in Colab\n",
        "with zipfile.ZipFile(zip_file_path, 'r') as zip_ref:\n",
        "    zip_ref.extractall(extracted_folder_path)\n",
        "\n",
        "# List the contents of the extracted folder\n",
        "os.listdir(extracted_folder_path)\n"
      ],
      "metadata": {
        "colab": {
          "base_uri": "https://localhost:8080/"
        },
        "id": "smD4ppZqLRuf",
        "outputId": "0e50ff0b-4e5a-4dae-a29c-76cca59ef207"
      },
      "execution_count": null,
      "outputs": [
        {
          "output_type": "execute_result",
          "data": {
            "text/plain": [
              "['train_labels.csv', 'train', 'test', 'sample_submission.csv']"
            ]
          },
          "metadata": {},
          "execution_count": 133
        }
      ]
    },
    {
      "cell_type": "code",
      "source": [
        "import numpy as np # linear algebra\n",
        "import pandas as pd # data processing, CSV file I/O (e.g. pd.read_csv)\n",
        "\n",
        "import os\n",
        "# Matplotlib for visualization\n",
        "import matplotlib.pyplot as plt\n",
        "plt.style.use(\"ggplot\")\n",
        "\n",
        "# OpenCV Image Library\n",
        "import cv2\n",
        "\n",
        "# Import PyTorch\n",
        "import torchvision.transforms as transforms\n",
        "from torch.utils.data.sampler import SubsetRandomSampler\n",
        "import torch\n",
        "import torch.nn as nn\n",
        "import torch.nn.functional as F\n",
        "from torch.utils.data import TensorDataset, DataLoader, Dataset\n",
        "import torchvision\n",
        "import torch.optim as optim\n",
        "from torch.optim.lr_scheduler import StepLR, ExponentialLR\n",
        "\n",
        "# Import useful sklearn functions\n",
        "import sklearn\n",
        "from sklearn.metrics import roc_auc_score, accuracy_score\n",
        "from PIL import Image"
      ],
      "metadata": {
        "id": "jb1z-UXiMHv2"
      },
      "execution_count": null,
      "outputs": []
    },
    {
      "cell_type": "code",
      "source": [
        "full_train_df = pd.read_csv(\"histopathologic-cancer-detection/train_labels.csv\")\n",
        "full_train_df.head()"
      ],
      "metadata": {
        "colab": {
          "base_uri": "https://localhost:8080/",
          "height": 204
        },
        "id": "EkqGOEo4M3Fg",
        "outputId": "58188b4e-e429-4f26-854e-5f2e46c03aa8"
      },
      "execution_count": null,
      "outputs": [
        {
          "output_type": "execute_result",
          "data": {
            "text/plain": [
              "                                         id  label\n",
              "0  f38a6374c348f90b587e046aac6079959adf3835      0\n",
              "1  c18f2d887b7ae4f6742ee445113fa1aef383ed77      1\n",
              "2  755db6279dae599ebb4d39a9123cce439965282d      0\n",
              "3  bc3f0c64fb968ff4a8bd33af6971ecae77c75e08      0\n",
              "4  068aba587a4950175d04c680d38943fd488d6a9d      0"
            ],
            "text/html": [
              "\n",
              "  <div id=\"df-d5565efa-51d3-4b29-b709-5a04d29da3b5\" class=\"colab-df-container\">\n",
              "    <div>\n",
              "<style scoped>\n",
              "    .dataframe tbody tr th:only-of-type {\n",
              "        vertical-align: middle;\n",
              "    }\n",
              "\n",
              "    .dataframe tbody tr th {\n",
              "        vertical-align: top;\n",
              "    }\n",
              "\n",
              "    .dataframe thead th {\n",
              "        text-align: right;\n",
              "    }\n",
              "</style>\n",
              "<table border=\"1\" class=\"dataframe\">\n",
              "  <thead>\n",
              "    <tr style=\"text-align: right;\">\n",
              "      <th></th>\n",
              "      <th>id</th>\n",
              "      <th>label</th>\n",
              "    </tr>\n",
              "  </thead>\n",
              "  <tbody>\n",
              "    <tr>\n",
              "      <th>0</th>\n",
              "      <td>f38a6374c348f90b587e046aac6079959adf3835</td>\n",
              "      <td>0</td>\n",
              "    </tr>\n",
              "    <tr>\n",
              "      <th>1</th>\n",
              "      <td>c18f2d887b7ae4f6742ee445113fa1aef383ed77</td>\n",
              "      <td>1</td>\n",
              "    </tr>\n",
              "    <tr>\n",
              "      <th>2</th>\n",
              "      <td>755db6279dae599ebb4d39a9123cce439965282d</td>\n",
              "      <td>0</td>\n",
              "    </tr>\n",
              "    <tr>\n",
              "      <th>3</th>\n",
              "      <td>bc3f0c64fb968ff4a8bd33af6971ecae77c75e08</td>\n",
              "      <td>0</td>\n",
              "    </tr>\n",
              "    <tr>\n",
              "      <th>4</th>\n",
              "      <td>068aba587a4950175d04c680d38943fd488d6a9d</td>\n",
              "      <td>0</td>\n",
              "    </tr>\n",
              "  </tbody>\n",
              "</table>\n",
              "</div>\n",
              "    <div class=\"colab-df-buttons\">\n",
              "\n",
              "  <div class=\"colab-df-container\">\n",
              "    <button class=\"colab-df-convert\" onclick=\"convertToInteractive('df-d5565efa-51d3-4b29-b709-5a04d29da3b5')\"\n",
              "            title=\"Convert this dataframe to an interactive table.\"\n",
              "            style=\"display:none;\">\n",
              "\n",
              "  <svg xmlns=\"http://www.w3.org/2000/svg\" height=\"24px\" viewBox=\"0 -960 960 960\">\n",
              "    <path d=\"M120-120v-720h720v720H120Zm60-500h600v-160H180v160Zm220 220h160v-160H400v160Zm0 220h160v-160H400v160ZM180-400h160v-160H180v160Zm440 0h160v-160H620v160ZM180-180h160v-160H180v160Zm440 0h160v-160H620v160Z\"/>\n",
              "  </svg>\n",
              "    </button>\n",
              "\n",
              "  <style>\n",
              "    .colab-df-container {\n",
              "      display:flex;\n",
              "      gap: 12px;\n",
              "    }\n",
              "\n",
              "    .colab-df-convert {\n",
              "      background-color: #E8F0FE;\n",
              "      border: none;\n",
              "      border-radius: 50%;\n",
              "      cursor: pointer;\n",
              "      display: none;\n",
              "      fill: #1967D2;\n",
              "      height: 32px;\n",
              "      padding: 0 0 0 0;\n",
              "      width: 32px;\n",
              "    }\n",
              "\n",
              "    .colab-df-convert:hover {\n",
              "      background-color: #E2EBFA;\n",
              "      box-shadow: 0px 1px 2px rgba(60, 64, 67, 0.3), 0px 1px 3px 1px rgba(60, 64, 67, 0.15);\n",
              "      fill: #174EA6;\n",
              "    }\n",
              "\n",
              "    .colab-df-buttons div {\n",
              "      margin-bottom: 4px;\n",
              "    }\n",
              "\n",
              "    [theme=dark] .colab-df-convert {\n",
              "      background-color: #3B4455;\n",
              "      fill: #D2E3FC;\n",
              "    }\n",
              "\n",
              "    [theme=dark] .colab-df-convert:hover {\n",
              "      background-color: #434B5C;\n",
              "      box-shadow: 0px 1px 3px 1px rgba(0, 0, 0, 0.15);\n",
              "      filter: drop-shadow(0px 1px 2px rgba(0, 0, 0, 0.3));\n",
              "      fill: #FFFFFF;\n",
              "    }\n",
              "  </style>\n",
              "\n",
              "    <script>\n",
              "      const buttonEl =\n",
              "        document.querySelector('#df-d5565efa-51d3-4b29-b709-5a04d29da3b5 button.colab-df-convert');\n",
              "      buttonEl.style.display =\n",
              "        google.colab.kernel.accessAllowed ? 'block' : 'none';\n",
              "\n",
              "      async function convertToInteractive(key) {\n",
              "        const element = document.querySelector('#df-d5565efa-51d3-4b29-b709-5a04d29da3b5');\n",
              "        const dataTable =\n",
              "          await google.colab.kernel.invokeFunction('convertToInteractive',\n",
              "                                                    [key], {});\n",
              "        if (!dataTable) return;\n",
              "\n",
              "        const docLinkHtml = 'Like what you see? Visit the ' +\n",
              "          '<a target=\"_blank\" href=https://colab.research.google.com/notebooks/data_table.ipynb>data table notebook</a>'\n",
              "          + ' to learn more about interactive tables.';\n",
              "        element.innerHTML = '';\n",
              "        dataTable['output_type'] = 'display_data';\n",
              "        await google.colab.output.renderOutput(dataTable, element);\n",
              "        const docLink = document.createElement('div');\n",
              "        docLink.innerHTML = docLinkHtml;\n",
              "        element.appendChild(docLink);\n",
              "      }\n",
              "    </script>\n",
              "  </div>\n",
              "\n",
              "\n",
              "<div id=\"df-989ce5ed-eb10-462c-acae-38a0836810ea\">\n",
              "  <button class=\"colab-df-quickchart\" onclick=\"quickchart('df-989ce5ed-eb10-462c-acae-38a0836810ea')\"\n",
              "            title=\"Suggest charts\"\n",
              "            style=\"display:none;\">\n",
              "\n",
              "<svg xmlns=\"http://www.w3.org/2000/svg\" height=\"24px\"viewBox=\"0 0 24 24\"\n",
              "     width=\"24px\">\n",
              "    <g>\n",
              "        <path d=\"M19 3H5c-1.1 0-2 .9-2 2v14c0 1.1.9 2 2 2h14c1.1 0 2-.9 2-2V5c0-1.1-.9-2-2-2zM9 17H7v-7h2v7zm4 0h-2V7h2v10zm4 0h-2v-4h2v4z\"/>\n",
              "    </g>\n",
              "</svg>\n",
              "  </button>\n",
              "\n",
              "<style>\n",
              "  .colab-df-quickchart {\n",
              "      --bg-color: #E8F0FE;\n",
              "      --fill-color: #1967D2;\n",
              "      --hover-bg-color: #E2EBFA;\n",
              "      --hover-fill-color: #174EA6;\n",
              "      --disabled-fill-color: #AAA;\n",
              "      --disabled-bg-color: #DDD;\n",
              "  }\n",
              "\n",
              "  [theme=dark] .colab-df-quickchart {\n",
              "      --bg-color: #3B4455;\n",
              "      --fill-color: #D2E3FC;\n",
              "      --hover-bg-color: #434B5C;\n",
              "      --hover-fill-color: #FFFFFF;\n",
              "      --disabled-bg-color: #3B4455;\n",
              "      --disabled-fill-color: #666;\n",
              "  }\n",
              "\n",
              "  .colab-df-quickchart {\n",
              "    background-color: var(--bg-color);\n",
              "    border: none;\n",
              "    border-radius: 50%;\n",
              "    cursor: pointer;\n",
              "    display: none;\n",
              "    fill: var(--fill-color);\n",
              "    height: 32px;\n",
              "    padding: 0;\n",
              "    width: 32px;\n",
              "  }\n",
              "\n",
              "  .colab-df-quickchart:hover {\n",
              "    background-color: var(--hover-bg-color);\n",
              "    box-shadow: 0 1px 2px rgba(60, 64, 67, 0.3), 0 1px 3px 1px rgba(60, 64, 67, 0.15);\n",
              "    fill: var(--button-hover-fill-color);\n",
              "  }\n",
              "\n",
              "  .colab-df-quickchart-complete:disabled,\n",
              "  .colab-df-quickchart-complete:disabled:hover {\n",
              "    background-color: var(--disabled-bg-color);\n",
              "    fill: var(--disabled-fill-color);\n",
              "    box-shadow: none;\n",
              "  }\n",
              "\n",
              "  .colab-df-spinner {\n",
              "    border: 2px solid var(--fill-color);\n",
              "    border-color: transparent;\n",
              "    border-bottom-color: var(--fill-color);\n",
              "    animation:\n",
              "      spin 1s steps(1) infinite;\n",
              "  }\n",
              "\n",
              "  @keyframes spin {\n",
              "    0% {\n",
              "      border-color: transparent;\n",
              "      border-bottom-color: var(--fill-color);\n",
              "      border-left-color: var(--fill-color);\n",
              "    }\n",
              "    20% {\n",
              "      border-color: transparent;\n",
              "      border-left-color: var(--fill-color);\n",
              "      border-top-color: var(--fill-color);\n",
              "    }\n",
              "    30% {\n",
              "      border-color: transparent;\n",
              "      border-left-color: var(--fill-color);\n",
              "      border-top-color: var(--fill-color);\n",
              "      border-right-color: var(--fill-color);\n",
              "    }\n",
              "    40% {\n",
              "      border-color: transparent;\n",
              "      border-right-color: var(--fill-color);\n",
              "      border-top-color: var(--fill-color);\n",
              "    }\n",
              "    60% {\n",
              "      border-color: transparent;\n",
              "      border-right-color: var(--fill-color);\n",
              "    }\n",
              "    80% {\n",
              "      border-color: transparent;\n",
              "      border-right-color: var(--fill-color);\n",
              "      border-bottom-color: var(--fill-color);\n",
              "    }\n",
              "    90% {\n",
              "      border-color: transparent;\n",
              "      border-bottom-color: var(--fill-color);\n",
              "    }\n",
              "  }\n",
              "</style>\n",
              "\n",
              "  <script>\n",
              "    async function quickchart(key) {\n",
              "      const quickchartButtonEl =\n",
              "        document.querySelector('#' + key + ' button');\n",
              "      quickchartButtonEl.disabled = true;  // To prevent multiple clicks.\n",
              "      quickchartButtonEl.classList.add('colab-df-spinner');\n",
              "      try {\n",
              "        const charts = await google.colab.kernel.invokeFunction(\n",
              "            'suggestCharts', [key], {});\n",
              "      } catch (error) {\n",
              "        console.error('Error during call to suggestCharts:', error);\n",
              "      }\n",
              "      quickchartButtonEl.classList.remove('colab-df-spinner');\n",
              "      quickchartButtonEl.classList.add('colab-df-quickchart-complete');\n",
              "    }\n",
              "    (() => {\n",
              "      let quickchartButtonEl =\n",
              "        document.querySelector('#df-989ce5ed-eb10-462c-acae-38a0836810ea button');\n",
              "      quickchartButtonEl.style.display =\n",
              "        google.colab.kernel.accessAllowed ? 'block' : 'none';\n",
              "    })();\n",
              "  </script>\n",
              "</div>\n",
              "    </div>\n",
              "  </div>\n"
            ]
          },
          "metadata": {},
          "execution_count": 50
        }
      ]
    },
    {
      "cell_type": "code",
      "source": [
        "print(\"Train Size: {}\".format(len(os.listdir('histopathologic-cancer-detection/train/'))))\n",
        "print(\"Test Size: {}\".format(len(os.listdir('histopathologic-cancer-detection/test/'))))"
      ],
      "metadata": {
        "colab": {
          "base_uri": "https://localhost:8080/"
        },
        "id": "H9GfL9VINCCM",
        "outputId": "d382225f-85fb-4b52-cab2-3c60e0be54e2"
      },
      "execution_count": null,
      "outputs": [
        {
          "output_type": "stream",
          "name": "stdout",
          "text": [
            "Train Size: 220025\n",
            "Test Size: 57458\n"
          ]
        }
      ]
    },
    {
      "cell_type": "code",
      "source": [
        "labels_count = full_train_df.label.value_counts()\n",
        "\n",
        "%matplotlib inline\n",
        "plt.pie(labels_count, labels=['No Cancer', 'Cancer'], startangle=180,\n",
        "        autopct='%1.1f', colors=['#00ff99','#FF96A7'], shadow=True)\n",
        "plt.figure(figsize=(16,16))\n",
        "plt.show()"
      ],
      "metadata": {
        "colab": {
          "base_uri": "https://localhost:8080/",
          "height": 423
        },
        "id": "aFtjllMbNmae",
        "outputId": "93026d4f-6f1d-48d2-b464-20f679ee09b6"
      },
      "execution_count": null,
      "outputs": [
        {
          "output_type": "display_data",
          "data": {
            "text/plain": [
              "<Figure size 640x480 with 1 Axes>"
            ],
            "image/png": "[encoded data removed]"
          },
          "metadata": {}
        },
        {
          "output_type": "display_data",
          "data": {
            "text/plain": [
              "<Figure size 1600x1600 with 0 Axes>"
            ]
          },
          "metadata": {}
        }
      ]
    },
    {
      "cell_type": "markdown",
      "source": [
        "\n",
        "### Preprocessing and augmentation\n",
        "\n",
        "**The augmentations used on the data:**\n",
        "- random rotation\n",
        "- random flip (horizontal and vertical both)\n",
        "- color jitter\n"
      ],
      "metadata": {
        "id": "ZWaH0nHZNudR"
      }
    },
    {
      "cell_type": "code",
      "source": [
        "import os\n",
        "\n",
        "train_path = \"/content/histopathologic-cancer-detection/train/\"\n",
        "\n",
        "train_files = os.listdir(train_path)\n",
        "print(train_files[:5])\n"
      ],
      "metadata": {
        "colab": {
          "base_uri": "https://localhost:8080/"
        },
        "id": "nmSTTnQ1OOYy",
        "outputId": "1fdfedd8-6336-45c3-c8e7-b75d883b21b8"
      },
      "execution_count": null,
      "outputs": [
        {
          "output_type": "stream",
          "name": "stdout",
          "text": [
            "['a0cfc6c822cb0ecba5656c3af852a274185fee53.tif', '8650fbb2d8b801a0c3e102de67b4e8fbbdc448a8.tif', 'e8d1646cea8485e39e12ae917a01d3c6df973252.tif', 'dd4ccccb33be5a35acc0db9571f392c476cb315f.tif', 'fd6752d25ba4b1d37326713453fb0c4a8766ce41.tif']\n"
          ]
        }
      ]
    },
    {
      "cell_type": "code",
      "source": [
        "import pandas as pd\n",
        "import os\n",
        "from glob import glob\n",
        "\n",
        "train_path = \"/content/histopathologic-cancer-detection/train/\"\n",
        "\n",
        "df = pd.DataFrame({'path': glob(os.path.join(train_path, '*.tif'))})\n",
        "df['id'] = df['path'].map(lambda x: os.path.splitext(os.path.basename(x))[0])\n",
        "print(df.head())\n",
        "\n"
      ],
      "metadata": {
        "colab": {
          "base_uri": "https://localhost:8080/"
        },
        "id": "qXVtg0EtOdEy",
        "outputId": "2cc7eed9-f057-4ee7-fea6-82005b7111fd"
      },
      "execution_count": null,
      "outputs": [
        {
          "output_type": "stream",
          "name": "stdout",
          "text": [
            "                                                path  \\\n",
            "0  /content/histopathologic-cancer-detection/trai...   \n",
            "1  /content/histopathologic-cancer-detection/trai...   \n",
            "2  /content/histopathologic-cancer-detection/trai...   \n",
            "3  /content/histopathologic-cancer-detection/trai...   \n",
            "4  /content/histopathologic-cancer-detection/trai...   \n",
            "\n",
            "                                         id  \n",
            "0  a0cfc6c822cb0ecba5656c3af852a274185fee53  \n",
            "1  8650fbb2d8b801a0c3e102de67b4e8fbbdc448a8  \n",
            "2  e8d1646cea8485e39e12ae917a01d3c6df973252  \n",
            "3  dd4ccccb33be5a35acc0db9571f392c476cb315f  \n",
            "4  fd6752d25ba4b1d37326713453fb0c4a8766ce41  \n"
          ]
        }
      ]
    },
    {
      "cell_type": "markdown",
      "source": [
        "# Data Sampling"
      ],
      "metadata": {
        "id": "ciZNaHc8DQk_"
      }
    },
    {
      "cell_type": "code",
      "source": [
        "import pandas as pd\n",
        "import sklearn.utils\n",
        "SAMPLE_SIZE = 5000\n",
        "train_path = '/content/histopathologic-cancer-detection/train/'\n",
        "df_negatives = full_train_df[full_train_df['label'] == 0].sample(SAMPLE_SIZE, random_state=42)\n",
        "df_positives = full_train_df[full_train_df['label'] == 1].sample(SAMPLE_SIZE, random_state=42)\n",
        "train_df = sklearn.utils.shuffle(pd.concat([df_positives, df_negatives], axis=0).reset_index(drop=True))\n",
        "print(train_df.shape)\n"
      ],
      "metadata": {
        "colab": {
          "base_uri": "https://localhost:8080/"
        },
        "id": "5RaG3ECFQykx",
        "outputId": "eefe8dba-d7f1-4a82-acd6-ac71d4d4ef60"
      },
      "execution_count": null,
      "outputs": [
        {
          "output_type": "stream",
          "name": "stdout",
          "text": [
            "(10000, 2)\n"
          ]
        }
      ]
    },
    {
      "cell_type": "code",
      "source": [
        "from torch.utils.data import Dataset\n",
        "from torchvision import transforms\n",
        "\n",
        "class CreateDataset(Dataset):\n",
        "    def __init__(self, df_data, data_dir='./', transform=None):\n",
        "        super().__init__()\n",
        "        self.df = df_data\n",
        "        self.data_dir = data_dir\n",
        "        self.transform = transform\n",
        "\n",
        "    def __len__(self):\n",
        "        return len(self.df)\n",
        "\n",
        "    def __getitem__(self, index):\n",
        "        img_name, label = self.df.iloc[index]\n",
        "        img_path = os.path.join(self.data_dir, f\"{img_name}.tif\")\n",
        "\n",
        "        # Consider using PIL for more versatile image loading\n",
        "        image = Image.open(img_path).convert('RGB')\n",
        "\n",
        "        if self.transform is not None:\n",
        "            image = self.transform(image)\n",
        "\n",
        "        return image, label\n"
      ],
      "metadata": {
        "id": "WuGGxFq1RuG6"
      },
      "execution_count": null,
      "outputs": []
    },
    {
      "cell_type": "code",
      "source": [
        "import torchvision.transforms as transforms\n",
        "\n",
        "class CreateDataset(Dataset):\n",
        "    def __init__(self, df_data, data_dir='./', transform=None):\n",
        "        super().__init__()\n",
        "        self.df = df_data.values\n",
        "        self.data_dir = data_dir\n",
        "        self.transform = transform\n",
        "\n",
        "    def __len__(self):\n",
        "        return len(self.df)\n",
        "\n",
        "    def __getitem__(self, index):\n",
        "        img_name, label = self.df[index]\n",
        "        img_path = os.path.join(self.data_dir, img_name + '.tif')\n",
        "        image = cv2.imread(img_path)\n",
        "\n",
        "        if self.transform is not None:\n",
        "            # Convert the image to PIL format\n",
        "            image = transforms.ToPILImage()(image)\n",
        "            # Apply the specified transformations\n",
        "            image = self.transform(image)\n",
        "\n",
        "        return image, label\n"
      ],
      "metadata": {
        "id": "FzO7bZNtXklu"
      },
      "execution_count": null,
      "outputs": []
    },
    {
      "cell_type": "code",
      "source": [
        "transforms_train = transforms.Compose([\n",
        "    transforms.RandomHorizontalFlip(p=0.4),\n",
        "    transforms.RandomVerticalFlip(p=0.4),\n",
        "    transforms.RandomRotation(20),\n",
        "    transforms.ColorJitter(brightness=0.2, contrast=0.2, saturation=0.2, hue=0.2),\n",
        "    transforms.ToTensor(),\n",
        "    transforms.Normalize((0.5, 0.5, 0.5), (0.5, 0.5, 0.5))\n",
        "])\n",
        "\n",
        "train_data = CreateDataset(df_data=train_df, data_dir=train_path, transform=transforms_train)\n"
      ],
      "metadata": {
        "id": "NdM3MGf3UOdo"
      },
      "execution_count": null,
      "outputs": []
    },
    {
      "cell_type": "markdown",
      "source": [
        "# Defining Model Architecture"
      ],
      "metadata": {
        "id": "_mwlLgIIVIXK"
      }
    },
    {
      "cell_type": "code",
      "source": [
        "class CNN(nn.Module):\n",
        "    def __init__(self):\n",
        "        super(CNN, self).__init__()\n",
        "        self.conv1 = nn.Sequential(\n",
        "            nn.Conv2d(in_channels=3, out_channels=32, kernel_size=3, stride=1, padding=0),\n",
        "            nn.BatchNorm2d(32),\n",
        "            nn.ReLU(inplace=True),\n",
        "            nn.MaxPool2d(2, 2))\n",
        "        self.conv2 = nn.Sequential(\n",
        "            nn.Conv2d(in_channels=32, out_channels=64, kernel_size=2, stride=1, padding=1),\n",
        "            nn.BatchNorm2d(64),\n",
        "            nn.ReLU(inplace=True),\n",
        "            nn.MaxPool2d(2, 2))\n",
        "        self.conv3 = nn.Sequential(\n",
        "            nn.Conv2d(in_channels=64, out_channels=128, kernel_size=3, stride=1, padding=1),\n",
        "            nn.BatchNorm2d(128),\n",
        "            nn.ReLU(inplace=True),\n",
        "            nn.MaxPool2d(2, 2))\n",
        "        self.conv4 = nn.Sequential(\n",
        "            nn.Conv2d(in_channels=128, out_channels=256, kernel_size=3, stride=1, padding=1),\n",
        "            nn.BatchNorm2d(256),\n",
        "            nn.ReLU(inplace=True),\n",
        "            nn.MaxPool2d(2, 2))\n",
        "        self.conv5 = nn.Sequential(\n",
        "            nn.Conv2d(in_channels=256, out_channels=512, kernel_size=3, stride=1, padding=1),\n",
        "            nn.BatchNorm2d(512),\n",
        "            nn.ReLU(inplace=True),\n",
        "            nn.MaxPool2d(2, 2))\n",
        "\n",
        "        self.dropout2d = nn.Dropout2d()\n",
        "\n",
        "        self.fc = nn.Sequential(\n",
        "            nn.Linear(512 * 3 * 3, 1024),\n",
        "            nn.ReLU(inplace=True),\n",
        "            nn.Dropout(0.5),  # Adjusted dropout rate\n",
        "            nn.Linear(1024, 512),\n",
        "            nn.Dropout(0.5),  # Adjusted dropout rate\n",
        "            nn.Linear(512, 1),\n",
        "            nn.Sigmoid())  # Sigmoid activation for binary classification\n",
        "\n",
        "    def forward(self, x):\n",
        "        x = self.conv1(x)\n",
        "        x = self.conv2(x)\n",
        "        x = self.conv3(x)\n",
        "        x = self.conv4(x)\n",
        "        x = self.conv5(x)\n",
        "        x = x.view(x.shape[0], -1)\n",
        "        x = self.fc(x)\n",
        "        return x\n"
      ],
      "metadata": {
        "id": "BKTP0HgLVFq5"
      },
      "execution_count": null,
      "outputs": []
    },
    {
      "cell_type": "code",
      "source": [
        "class CNN2(nn.Module):\n",
        "    def __init__(self):\n",
        "        super(CNN2, self).__init__()\n",
        "        self.conv1 = nn.Conv2d(in_channels=3, out_channels=16, kernel_size=3, stride=1, padding=1)\n",
        "        self.relu1 = nn.ReLU()\n",
        "        self.pool1 = nn.MaxPool2d(2, 2)\n",
        "        self.conv2 = nn.Conv2d(in_channels=16, out_channels=32, kernel_size=3, stride=1, padding=1)\n",
        "        self.relu2 = nn.ReLU()\n",
        "        self.pool2 = nn.MaxPool2d(2, 2)\n",
        "        self.conv3 = nn.Conv2d(in_channels=32, out_channels=64, kernel_size=3, stride=1, padding=1)\n",
        "        self.relu3 = nn.ReLU()\n",
        "        self.pool3 = nn.MaxPool2d(2, 2)\n",
        "        self.fc1 = nn.Linear(64 * 12 * 12, 512)\n",
        "        self.relu4 = nn.ReLU()\n",
        "        self.dropout = nn.Dropout(0.5)  # Adjusted dropout rate\n",
        "        self.fc2 = nn.Linear(512, 1)\n",
        "        self.sigmoid = nn.Sigmoid()  # Sigmoid activation for binary classification\n",
        "\n",
        "    def forward(self, x):\n",
        "        x = self.conv1(x)\n",
        "        x = self.relu1(x)\n",
        "        x = self.pool1(x)\n",
        "        x = self.conv2(x)\n",
        "        x = self.relu2(x)\n",
        "        x = self.pool2(x)\n",
        "        x = self.conv3(x)\n",
        "        x = self.relu3(x)\n",
        "        x = self.pool3(x)\n",
        "        x = x.view(-1, 64 * 12 * 12)\n",
        "        x = self.fc1(x)\n",
        "        x = self.relu4(x)\n",
        "        x = self.dropout(x)\n",
        "        x = self.fc2(x)\n",
        "        x = self.sigmoid(x)\n",
        "        return x\n"
      ],
      "metadata": {
        "id": "maZZXqUzVKld"
      },
      "execution_count": null,
      "outputs": []
    },
    {
      "cell_type": "code",
      "source": [
        "# check if CUDA is available\n",
        "train_on_gpu = torch.cuda.is_available()\n",
        "\n",
        "if not train_on_gpu:\n",
        "    print('CUDA is not available.  Training on CPU ...')\n",
        "else:\n",
        "    print('CUDA is available!  Training on GPU ...')"
      ],
      "metadata": {
        "colab": {
          "base_uri": "https://localhost:8080/"
        },
        "id": "lUkccMMJVMGi",
        "outputId": "39e26fdb-9b49-47a7-d2d8-8e79b780c6bd"
      },
      "execution_count": null,
      "outputs": [
        {
          "output_type": "stream",
          "name": "stdout",
          "text": [
            "CUDA is not available.  Training on CPU ...\n"
          ]
        }
      ]
    },
    {
      "cell_type": "markdown",
      "source": [
        "# Training and Validation"
      ],
      "metadata": {
        "id": "hG0JhWfLVUAc"
      }
    },
    {
      "cell_type": "code",
      "source": [
        "model1 = CNN()\n",
        "print(model1)\n",
        "\n",
        "model2 = CNN2()\n",
        "print(model2)\n",
        "\n",
        "# Move model to GPU if available\n",
        "if train_on_gpu:\n",
        "    model1.cuda()\n",
        "    model2.cuda()"
      ],
      "metadata": {
        "colab": {
          "base_uri": "https://localhost:8080/"
        },
        "id": "0m57ZnUUVRnP",
        "outputId": "c77f310d-7e80-4232-8600-c42903ab2488"
      },
      "execution_count": null,
      "outputs": [
        {
          "output_type": "stream",
          "name": "stdout",
          "text": [
            "CNN(\n",
            "  (conv1): Sequential(\n",
            "    (0): Conv2d(3, 32, kernel_size=(3, 3), stride=(1, 1))\n",
            "    (1): BatchNorm2d(32, eps=1e-05, momentum=0.1, affine=True, track_running_stats=True)\n",
            "    (2): ReLU(inplace=True)\n",
            "    (3): MaxPool2d(kernel_size=2, stride=2, padding=0, dilation=1, ceil_mode=False)\n",
            "  )\n",
            "  (conv2): Sequential(\n",
            "    (0): Conv2d(32, 64, kernel_size=(2, 2), stride=(1, 1), padding=(1, 1))\n",
            "    (1): BatchNorm2d(64, eps=1e-05, momentum=0.1, affine=True, track_running_stats=True)\n",
            "    (2): ReLU(inplace=True)\n",
            "    (3): MaxPool2d(kernel_size=2, stride=2, padding=0, dilation=1, ceil_mode=False)\n",
            "  )\n",
            "  (conv3): Sequential(\n",
            "    (0): Conv2d(64, 128, kernel_size=(3, 3), stride=(1, 1), padding=(1, 1))\n",
            "    (1): BatchNorm2d(128, eps=1e-05, momentum=0.1, affine=True, track_running_stats=True)\n",
            "    (2): ReLU(inplace=True)\n",
            "    (3): MaxPool2d(kernel_size=2, stride=2, padding=0, dilation=1, ceil_mode=False)\n",
            "  )\n",
            "  (conv4): Sequential(\n",
            "    (0): Conv2d(128, 256, kernel_size=(3, 3), stride=(1, 1), padding=(1, 1))\n",
            "    (1): BatchNorm2d(256, eps=1e-05, momentum=0.1, affine=True, track_running_stats=True)\n",
            "    (2): ReLU(inplace=True)\n",
            "    (3): MaxPool2d(kernel_size=2, stride=2, padding=0, dilation=1, ceil_mode=False)\n",
            "  )\n",
            "  (conv5): Sequential(\n",
            "    (0): Conv2d(256, 512, kernel_size=(3, 3), stride=(1, 1), padding=(1, 1))\n",
            "    (1): BatchNorm2d(512, eps=1e-05, momentum=0.1, affine=True, track_running_stats=True)\n",
            "    (2): ReLU(inplace=True)\n",
            "    (3): MaxPool2d(kernel_size=2, stride=2, padding=0, dilation=1, ceil_mode=False)\n",
            "  )\n",
            "  (dropout2d): Dropout2d(p=0.5, inplace=False)\n",
            "  (fc): Sequential(\n",
            "    (0): Linear(in_features=4608, out_features=1024, bias=True)\n",
            "    (1): ReLU(inplace=True)\n",
            "    (2): Dropout(p=0.5, inplace=False)\n",
            "    (3): Linear(in_features=1024, out_features=512, bias=True)\n",
            "    (4): Dropout(p=0.5, inplace=False)\n",
            "    (5): Linear(in_features=512, out_features=1, bias=True)\n",
            "    (6): Sigmoid()\n",
            "  )\n",
            ")\n",
            "CNN2(\n",
            "  (conv1): Conv2d(3, 16, kernel_size=(3, 3), stride=(1, 1), padding=(1, 1))\n",
            "  (relu1): ReLU()\n",
            "  (pool1): MaxPool2d(kernel_size=2, stride=2, padding=0, dilation=1, ceil_mode=False)\n",
            "  (conv2): Conv2d(16, 32, kernel_size=(3, 3), stride=(1, 1), padding=(1, 1))\n",
            "  (relu2): ReLU()\n",
            "  (pool2): MaxPool2d(kernel_size=2, stride=2, padding=0, dilation=1, ceil_mode=False)\n",
            "  (conv3): Conv2d(32, 64, kernel_size=(3, 3), stride=(1, 1), padding=(1, 1))\n",
            "  (relu3): ReLU()\n",
            "  (pool3): MaxPool2d(kernel_size=2, stride=2, padding=0, dilation=1, ceil_mode=False)\n",
            "  (fc1): Linear(in_features=9216, out_features=512, bias=True)\n",
            "  (relu4): ReLU()\n",
            "  (dropout): Dropout(p=0.5, inplace=False)\n",
            "  (fc2): Linear(in_features=512, out_features=1, bias=True)\n",
            "  (sigmoid): Sigmoid()\n",
            ")\n"
          ]
        }
      ]
    },
    {
      "cell_type": "code",
      "source": [
        "# Assuming you have created instances of your models\n",
        "model1 = CNN()\n",
        "model2 = CNN2()\n",
        "\n",
        "# Calculate the number of trainable parameters for model 1\n",
        "pytorch_total_params = sum(p.numel() for p in model1.parameters() if p.requires_grad)\n",
        "print(\"Number of trainable parameters for model 1: \\n{}\".format(pytorch_total_params))\n",
        "\n",
        "# Calculate the number of trainable parameters for model 2\n",
        "pytorch_total_params = sum(p.numel() for p in model2.parameters() if p.requires_grad)\n",
        "print(\"Number of trainable parameters for model 2: \\n{}\".format(pytorch_total_params))\n"
      ],
      "metadata": {
        "colab": {
          "base_uri": "https://localhost:8080/"
        },
        "id": "6FTfBgWOVWBt",
        "outputId": "93717ec5-3e5c-455b-917e-919ef44133ff"
      },
      "execution_count": null,
      "outputs": [
        {
          "output_type": "stream",
          "name": "stdout",
          "text": [
            "Number of trainable parameters for model 1: \n",
            "6805249\n",
            "Number of trainable parameters for model 2: \n",
            "4743201\n"
          ]
        }
      ]
    },
    {
      "cell_type": "code",
      "source": [
        "from sklearn.metrics import roc_auc_score\n",
        "\n",
        "def train_my_model(params):\n",
        "    n_epochs = params['epochs']\n",
        "    train_loader = params['train']\n",
        "    valid_loader = params['val']\n",
        "    optimizer =  params['optimizer']\n",
        "    criterion = params['f_loss']\n",
        "    lr_scheduler = params['lr_change']\n",
        "    model = params['model']\n",
        "\n",
        "    valid_loss_min = np.Inf\n",
        "    patience = 5  # Adjust as needed\n",
        "\n",
        "    train_losses = []\n",
        "    valid_losses = []\n",
        "    val_auc = []\n",
        "    test_accuracies = []\n",
        "    valid_accuracies = []\n",
        "    auc_epoch = []\n",
        "\n",
        "    for epoch in range(1, n_epochs+1):\n",
        "        train_loss = 0.0\n",
        "        valid_loss = 0.0\n",
        "\n",
        "        model.train()\n",
        "        for data, target in train_loader:\n",
        "            if train_on_gpu:\n",
        "                data, target = data.cuda(), target.cuda().float()\n",
        "            target = target.float().view(-1, 1)\n",
        "            optimizer.zero_grad()\n",
        "            output = model(data)\n",
        "            loss = criterion(output, target)\n",
        "            loss.backward()\n",
        "            optimizer.step()\n",
        "            train_loss += loss.item()*data.size(0)\n",
        "\n",
        "        lr_scheduler.step()\n",
        "\n",
        "        model.eval()\n",
        "        val_auc = []  # Reset for each epoch\n",
        "        for data, target in valid_loader:\n",
        "            if train_on_gpu:\n",
        "                data, target = data.cuda(), target.cuda().float()\n",
        "            target = target.float().view(-1, 1)\n",
        "            output = model(data)\n",
        "            loss = criterion(output, target)\n",
        "            valid_loss += loss.item()*data.size(0)\n",
        "            y_actual = target.data.cpu().numpy()\n",
        "            y_pred = output[:,-1].detach().cpu().numpy()\n",
        "            val_auc.append(roc_auc_score(y_actual, y_pred))\n",
        "\n",
        "        train_loss = train_loss / len(train_loader.sampler)\n",
        "        valid_loss = valid_loss / len(valid_loader.sampler)\n",
        "        valid_auc = np.mean(val_auc)\n",
        "        auc_epoch.append(valid_auc)\n",
        "        train_losses.append(train_loss)\n",
        "        valid_losses.append(valid_loss)\n",
        "\n",
        "        print('Epoch: {} | Training Loss: {:.6f} | Validation Loss: {:.6f} | Validation AUC: {:.4f}'.format(\n",
        "            epoch, train_loss, valid_loss, valid_auc))\n",
        "\n",
        "        # Early stopping\n",
        "        if valid_loss <= valid_loss_min:\n",
        "            print('Validation loss decreased ({:.6f} --> {:.6f}).  Saving model ...'.format(\n",
        "                valid_loss_min,\n",
        "                valid_loss))\n",
        "            torch.save(model.state_dict(), 'best_model.pt')\n",
        "            valid_loss_min = valid_loss\n",
        "            patience_counter = 0\n",
        "        else:\n",
        "            patience_counter += 1\n",
        "            if patience_counter >= patience:\n",
        "                print(f'Early stopping after {epoch} epochs without improvement.')\n",
        "                break\n",
        "\n",
        "    return auc_epoch\n"
      ],
      "metadata": {
        "id": "S7WYgRMHVYiE"
      },
      "execution_count": null,
      "outputs": []
    },
    {
      "cell_type": "code",
      "source": [
        "optimizer = optim.SGD(model2.parameters(), lr=3e-4)\n",
        "\n",
        "params_train={\n",
        " \"train\": train_loader,\"val\": valid_loader,\n",
        " \"epochs\": 20,\n",
        " \"optimizer\": optimizer,\n",
        " \"lr_change\": ExponentialLR(optimizer, gamma=0.9),\n",
        " \"f_loss\": nn.BCELoss(),\n",
        " \"model\": model2\n",
        "}"
      ],
      "metadata": {
        "id": "xpuneDBoW9-8"
      },
      "execution_count": null,
      "outputs": []
    },
    {
      "cell_type": "code",
      "source": [
        "model2_auc_epoch = train_my_model(params_train)"
      ],
      "metadata": {
        "colab": {
          "base_uri": "https://localhost:8080/"
        },
        "id": "qEgAEoqSYdLs",
        "outputId": "0afa94cb-ad6c-4765-c36b-813d196c21cf"
      },
      "execution_count": null,
      "outputs": [
        {
          "output_type": "stream",
          "name": "stdout",
          "text": [
            "Epoch: 1 | Training Loss: 0.693852 | Validation Loss: 0.692935 | Validation AUC: 0.5017\n",
            "Validation loss decreased (inf --> 0.692935).  Saving model ...\n",
            "Epoch: 2 | Training Loss: 0.693679 | Validation Loss: 0.692951 | Validation AUC: 0.5011\n",
            "Epoch: 3 | Training Loss: 0.693352 | Validation Loss: 0.692864 | Validation AUC: 0.5181\n",
            "Validation loss decreased (0.692935 --> 0.692864).  Saving model ...\n",
            "Epoch: 4 | Training Loss: 0.693329 | Validation Loss: 0.692734 | Validation AUC: 0.5338\n",
            "Validation loss decreased (0.692864 --> 0.692734).  Saving model ...\n",
            "Epoch: 5 | Training Loss: 0.693066 | Validation Loss: 0.692544 | Validation AUC: 0.5563\n",
            "Validation loss decreased (0.692734 --> 0.692544).  Saving model ...\n",
            "Epoch: 6 | Training Loss: 0.693039 | Validation Loss: 0.692560 | Validation AUC: 0.5656\n",
            "Epoch: 7 | Training Loss: 0.693031 | Validation Loss: 0.692482 | Validation AUC: 0.5655\n",
            "Validation loss decreased (0.692544 --> 0.692482).  Saving model ...\n",
            "Epoch: 8 | Training Loss: 0.692777 | Validation Loss: 0.692273 | Validation AUC: 0.5997\n",
            "Validation loss decreased (0.692482 --> 0.692273).  Saving model ...\n",
            "Epoch: 9 | Training Loss: 0.692605 | Validation Loss: 0.692390 | Validation AUC: 0.5817\n",
            "Epoch: 10 | Training Loss: 0.692674 | Validation Loss: 0.692414 | Validation AUC: 0.5762\n",
            "Epoch: 11 | Training Loss: 0.692764 | Validation Loss: 0.692380 | Validation AUC: 0.5847\n",
            "Epoch: 12 | Training Loss: 0.692363 | Validation Loss: 0.692328 | Validation AUC: 0.5884\n",
            "Epoch: 13 | Training Loss: 0.692568 | Validation Loss: 0.692376 | Validation AUC: 0.5823\n",
            "Early stopping after 13 epochs without improvement.\n"
          ]
        }
      ]
    },
    {
      "cell_type": "markdown",
      "source": [
        "The second model (model 2) appears to have undergone 13 training epochs based on the training log. The validation loss steadily dropped during this training phase, arriving at a minimum value of 0.692273, which suggests the model was able to match the training set. On the validation set, the AUC stabilized around 0.60, but did not significantly improve. The model was able to advance incrementally with the use of an exponential learning rate scheduler and SGD as the optimizer, with a learning rate of 3e-4. In order to avoid overfitting, training was stopped early after 13 epochs without any visible progress. Overall, the interpretation points to the model's ability to identify patterns in the training data, although it could still need some fine-tuning to improve generalization to new data."
      ],
      "metadata": {
        "id": "DebAr_SvD1Kf"
      }
    },
    {
      "cell_type": "code",
      "source": [
        "optimizer = optim.Adam(model1.parameters(), lr=0.00015)\n",
        "\n",
        "params_train={\n",
        " \"train\": train_loader,\"val\": valid_loader,\n",
        " \"epochs\": 20,\n",
        " \"optimizer\": optimizer,\n",
        " \"lr_change\":  StepLR(optimizer, step_size=30, gamma=0.1),\n",
        " \"f_loss\": nn.BCELoss(),\n",
        " \"model\": model1\n",
        "}"
      ],
      "metadata": {
        "id": "5SxiY5M0gup1"
      },
      "execution_count": null,
      "outputs": []
    },
    {
      "cell_type": "code",
      "source": [
        "model1_auc_epoch = train_my_model(params_train)"
      ],
      "metadata": {
        "colab": {
          "base_uri": "https://localhost:8080/"
        },
        "id": "aVhfCXKajzGU",
        "outputId": "33c62a60-e1fb-4597-e92e-90f1233e70ad"
      },
      "execution_count": null,
      "outputs": [
        {
          "output_type": "stream",
          "name": "stdout",
          "text": [
            "Epoch: 1 | Training Loss: 0.480785 | Validation Loss: 0.482366 | Validation AUC: 0.8611\n",
            "Validation loss decreased (inf --> 0.482366).  Saving model ...\n",
            "Epoch: 2 | Training Loss: 0.469900 | Validation Loss: 0.480853 | Validation AUC: 0.8535\n",
            "Validation loss decreased (0.482366 --> 0.480853).  Saving model ...\n",
            "Epoch: 3 | Training Loss: 0.472095 | Validation Loss: 0.493577 | Validation AUC: 0.8652\n",
            "Epoch: 4 | Training Loss: 0.455486 | Validation Loss: 0.465300 | Validation AUC: 0.8612\n",
            "Validation loss decreased (0.480853 --> 0.465300).  Saving model ...\n",
            "Epoch: 5 | Training Loss: 0.450946 | Validation Loss: 0.545129 | Validation AUC: 0.8505\n",
            "Epoch: 6 | Training Loss: 0.454477 | Validation Loss: 0.452162 | Validation AUC: 0.8697\n",
            "Validation loss decreased (0.465300 --> 0.452162).  Saving model ...\n",
            "Epoch: 7 | Training Loss: 0.442456 | Validation Loss: 0.461630 | Validation AUC: 0.8753\n",
            "Epoch: 8 | Training Loss: 0.431433 | Validation Loss: 0.596272 | Validation AUC: 0.8623\n",
            "Epoch: 9 | Training Loss: 0.434123 | Validation Loss: 0.480657 | Validation AUC: 0.8849\n",
            "Epoch: 10 | Training Loss: 0.431879 | Validation Loss: 0.479810 | Validation AUC: 0.8686\n",
            "Epoch: 11 | Training Loss: 0.415125 | Validation Loss: 0.419539 | Validation AUC: 0.8886\n",
            "Validation loss decreased (0.452162 --> 0.419539).  Saving model ...\n",
            "Epoch: 12 | Training Loss: 0.416873 | Validation Loss: 0.439952 | Validation AUC: 0.8817\n",
            "Epoch: 13 | Training Loss: 0.416754 | Validation Loss: 0.442305 | Validation AUC: 0.8860\n",
            "Epoch: 14 | Training Loss: 0.413998 | Validation Loss: 0.468409 | Validation AUC: 0.8808\n",
            "Epoch: 15 | Training Loss: 0.404965 | Validation Loss: 0.474056 | Validation AUC: 0.8853\n",
            "Epoch: 16 | Training Loss: 0.413656 | Validation Loss: 0.440506 | Validation AUC: 0.8907\n",
            "Early stopping after 16 epochs without improvement.\n"
          ]
        }
      ]
    },
    {
      "cell_type": "markdown",
      "source": [
        "The Adam optimizer, which has a learning rate of 0.00015, was employed for training, according to the training log for model 1. After 16 epochs of training, the model was stopped early to avoid overfitting because the validation loss showed little improvement. The model showed a steady decrease in training and validation losses during the course of training. The binary classification performance measure, the validation AUC, continuously improved and peaked at 0.8907. By identifying pertinent patterns in the training set, the model appears to have effectively learnt to generalize well to new data, as seen by the decrease in validation loss and the improvement in AUC. It is probable that the stored model strikes a fair balance between generalization and training performance."
      ],
      "metadata": {
        "id": "dzQdyjofEKcW"
      }
    },
    {
      "cell_type": "code",
      "source": [
        "%matplotlib inline\n",
        "%config InlineBackend.figure_format = 'retina'\n",
        "\n",
        "plt.plot(model1_auc_epoch, label='Model-1')\n",
        "plt.plot(model2_auc_epoch, label='Model-2')\n",
        "plt.xlabel(\"Epochs\")\n",
        "plt.ylabel(\"Area Under the Curve\")\n",
        "plt.legend(frameon=False)"
      ],
      "metadata": {
        "colab": {
          "base_uri": "https://localhost:8080/",
          "height": 469
        },
        "id": "dNJCq9iC-Ti4",
        "outputId": "7146d899-24c2-42dc-f512-1d2167abeaf5"
      },
      "execution_count": null,
      "outputs": [
        {
          "output_type": "execute_result",
          "data": {
            "text/plain": [
              "<matplotlib.legend.Legend at 0x7a4e4be5ba30>"
            ]
          },
          "metadata": {},
          "execution_count": 132
        },
        {
          "output_type": "display_data",
          "data": {
            "text/plain": [
              "<Figure size 640x480 with 1 Axes>"
            ],
            "image/png": "[encoded data removed]"
          },
          "metadata": {
            "image/png": {
              "width": 578,
              "height": 435
            }
          }
        }
      ]
    },
    {
      "cell_type": "markdown",
      "source": [
        "* Plotting the ROC curves over epochs is done for Models 1 and 2. The Area Under the Curve (AUC) of the ROC curve is displayed on the y-axis, while the x-axis indicates the quantity of training epochs. Better performance in differentiating between positive and negative samples is indicated by a higher AUC value.\n",
        "\n",
        "* According to the figure, during the training epochs, Model-1 continuously performs better than Model-2 in terms of AUC. The Model-1 ROC curve's growing trend indicates that the model's performance becomes better with more training. On the other hand, Model-2's ROC curve exhibits less improvement over time.\n",
        "\n",
        "* All things considered, Model-1 outperforms Model-2 in terms of class discrimination during training, according to the ROC curves."
      ],
      "metadata": {
        "id": "r9TOsWYyEoQQ"
      }
    },
    {
      "cell_type": "code",
      "source": [],
      "metadata": {
        "id": "1v7wPimC_GU5"
      },
      "execution_count": null,
      "outputs": []
    }
  ]
}